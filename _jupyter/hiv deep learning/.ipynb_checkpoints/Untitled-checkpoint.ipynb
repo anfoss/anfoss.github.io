{
 "cells": [
  {
   "cell_type": "markdown",
   "metadata": {},
   "source": [
    "## Deep learning demystified: HIV protease substrate prediction\n",
    "\n",
    "Last time we looked into random forest for classification of COVID19 patients and figure out that machine learning can be used for not only classification but also for scoring features between two classes (feature importance).\n",
    "\n",
    "Today, we will have a look at how to translate a general question into something we can solve with machine learning/deep learning.\n",
    "Specifically, we will try to predict substrates of a viral protease (HIV).\n",
    "\n",
    "For this task we will use the data from [this paper](https://academic.oup.com/bioinformatics/article/31/8/1204/212810) which can be found at the UCI machine learning repository [here](https://archive.ics.uci.edu/ml/datasets/HIV-1+protease+cleavage).\n",
    "\n",
    "There are 4 datasets and we will use 3 together for training the model and 1 for testing performance at the end after selecting our favourite model.\n",
    "\n",
    "Each dataset has a series of peptides with fixed lenght of 8 and a label depending whether is cleaved by the HIV protease (1) or not (-1).\n",
    "\n",
    "As before we will follow the steps outlined in the previous series of post.\n",
    "\n",
    "- 1. Merge all available data into a single dataframe\n",
    "- 2. Convert all features to number\n",
    "- 3. Train a model and calculate performance\n",
    "- 4. Parameter tuneup\n",
    "- 5. Prediction\n",
    "\n",
    "**So let's start coding!**\n",
    "\n"
   ]
  },
  {
   "cell_type": "code",
   "execution_count": 1,
   "metadata": {},
   "outputs": [
    {
     "data": {
      "text/html": [
       "<div>\n",
       "<style scoped>\n",
       "    .dataframe tbody tr th:only-of-type {\n",
       "        vertical-align: middle;\n",
       "    }\n",
       "\n",
       "    .dataframe tbody tr th {\n",
       "        vertical-align: top;\n",
       "    }\n",
       "\n",
       "    .dataframe thead th {\n",
       "        text-align: right;\n",
       "    }\n",
       "</style>\n",
       "<table border=\"1\" class=\"dataframe\">\n",
       "  <thead>\n",
       "    <tr style=\"text-align: right;\">\n",
       "      <th></th>\n",
       "      <th>0</th>\n",
       "      <th>1</th>\n",
       "    </tr>\n",
       "  </thead>\n",
       "  <tbody>\n",
       "    <tr>\n",
       "      <th>0</th>\n",
       "      <td>AAAKFERQ</td>\n",
       "      <td>-1</td>\n",
       "    </tr>\n",
       "    <tr>\n",
       "      <th>1</th>\n",
       "      <td>AAAMKRHG</td>\n",
       "      <td>-1</td>\n",
       "    </tr>\n",
       "    <tr>\n",
       "      <th>2</th>\n",
       "      <td>AAAMSSAI</td>\n",
       "      <td>-1</td>\n",
       "    </tr>\n",
       "    <tr>\n",
       "      <th>3</th>\n",
       "      <td>AAKFERQH</td>\n",
       "      <td>-1</td>\n",
       "    </tr>\n",
       "    <tr>\n",
       "      <th>4</th>\n",
       "      <td>AAKFESNF</td>\n",
       "      <td>-1</td>\n",
       "    </tr>\n",
       "  </tbody>\n",
       "</table>\n",
       "</div>"
      ],
      "text/plain": [
       "          0  1\n",
       "0  AAAKFERQ -1\n",
       "1  AAAMKRHG -1\n",
       "2  AAAMSSAI -1\n",
       "3  AAKFERQH -1\n",
       "4  AAKFESNF -1"
      ]
     },
     "execution_count": 1,
     "metadata": {},
     "output_type": "execute_result"
    }
   ],
   "source": [
    "import pandas as pd\n",
    "import numpy as np\n",
    "\n",
    "data1 = pd.read_csv('746Data.txt', sep=\",\", header=None)\n",
    "data2 = pd.read_csv('1625Data.txt', sep=\",\", header=None)\n",
    "data3 = pd.read_csv('impensData.txt', sep=\",\", header=None)\n",
    "test_data = pd.read_csv('schillingData.txt', sep=\",\", header=None)\n",
    "\n",
    "# merge all data in single dataframe\n",
    "tots = pd.concat([data1, data2, data3])\n",
    "tots.head(5)"
   ]
  },
  {
   "cell_type": "markdown",
   "metadata": {},
   "source": [
    "### Feature encoding\n",
    "\n",
    "Differently from our previous example, now we have a sequence of letters. No algorithm will work with that, so we need to convert it to numbers. There are several ways for doing so, but the easiest one is to define manually all aminoacids and give them arbitrary integers, we will end up with a dataframe where every aminoacid is _encoded_ by  a number"
   ]
  },
  {
   "cell_type": "code",
   "execution_count": 2,
   "metadata": {},
   "outputs": [],
   "source": [
    "def preprocess_seq(df, aa):\n",
    "    \"\"\"\n",
    "    receive a two column df with df[0] is a peptide and df[1] is class label\n",
    "    returns encoded features as integer and labels\n",
    "    \"\"\"\n",
    "    char_dict = {}\n",
    "    for index, val in enumerate(aa):\n",
    "        char_dict[val] = index+1\n",
    "\n",
    "    # now that we have a dictionary we can just split the sequence in multiple column\n",
    "    sequences = df[0].str.split('', expand=True)\n",
    "\n",
    "    # and replace every letter with a number\n",
    "    for colname in list(sequences):\n",
    "        sequences[colname] = sequences[colname].str.upper().map(char_dict)\n",
    "    \n",
    "    # there are empty columns, we are just going to drop them\n",
    "    sequences.dropna(axis=1, inplace=True)\n",
    "    return sequences.values, df[1].values\n",
    "\n",
    "\n",
    "aa = ['A', 'C', 'D', 'E', 'F', 'G', 'H', 'I', 'K', 'L',\n",
    "         'M', 'N', 'P', 'Q', 'R', 'S', 'T', 'V', 'W', 'Y']\n",
    "\n",
    "# get features and labels\n",
    "X, y = preprocess_seq(tots, aa)\n",
    "\n",
    "X_test, y_test = preprocess_seq(test_data, aa)\n",
    "\n"
   ]
  },
  {
   "cell_type": "markdown",
   "metadata": {},
   "source": [
    "### Keep it simple (at first)!\n",
    "\n",
    "Okay now that we took care of having *only* numerical features we are going to give it a shot with some traditional machine learning.\n",
    "**Before trying to use complicated and hard to train deep learning model is advisable to try simpler ML models such as random forest or SVM and see if the problem can be solved in this way**\n",
    "\n",
    "As before we will use the random forest algorithm and use [k-fold cross validation](https://scikit-learn.org/stable/modules/cross_validation.html) to evaluate performance."
   ]
  },
  {
   "cell_type": "code",
   "execution_count": 3,
   "metadata": {},
   "outputs": [],
   "source": [
    "from sklearn.model_selection import train_test_split\n",
    "from sklearn.ensemble import RandomForestClassifier\n",
    "from sklearn.model_selection import KFold\n",
    "from sklearn.metrics import confusion_matrix\n",
    "\n",
    "\n",
    "\n",
    "# as before random forest is usually my to go as first trial\n",
    "clf_rf = RandomForestClassifier(random_state=42)\n",
    "\n",
    "# 5 fold cv\n",
    "kf = KFold(n_splits=5, random_state=42, shuffle=True)\n",
    "\n",
    "# we will save results of performance on every fold here\n",
    "perf =[]\n",
    "\n",
    "for train_index, test_index in kf.split(X):\n",
    "    X_train, X_test = X[train_index], X[test_index]\n",
    "    y_train, y_test = y[train_index], y[test_index]\n",
    "    clf=clf_rf.fit(X_train,y_train)\n",
    "    y_pred = clf_rf.predict(X_test)\n",
    "    perf.append(confusion_matrix(y_test, y_pred).ravel())"
   ]
  },
  {
   "cell_type": "markdown",
   "metadata": {},
   "source": [
    "### Confusion matrix and more performance metrics\n",
    "\n",
    "The 2d array perf is a confusion matrix which contains the number of true positive, false positive, false negative and true negative based on our classifier and the ground label. From this we can calculate all [performance metrics](https://en.wikipedia.org/wiki/Precision_and_recall) which is why I usually just extract the confusion matrix and calculate metrics by hand.\n",
    "Let's not forget that cross validation works on the *training data* so it is a measure of performance but not generalization!"
   ]
  },
  {
   "cell_type": "code",
   "execution_count": 4,
   "metadata": {},
   "outputs": [
    {
     "data": {
      "text/html": [
       "<div>\n",
       "<style scoped>\n",
       "    .dataframe tbody tr th:only-of-type {\n",
       "        vertical-align: middle;\n",
       "    }\n",
       "\n",
       "    .dataframe tbody tr th {\n",
       "        vertical-align: top;\n",
       "    }\n",
       "\n",
       "    .dataframe thead th {\n",
       "        text-align: right;\n",
       "    }\n",
       "</style>\n",
       "<table border=\"1\" class=\"dataframe\">\n",
       "  <thead>\n",
       "    <tr style=\"text-align: right;\">\n",
       "      <th></th>\n",
       "      <th>rec</th>\n",
       "      <th>prec</th>\n",
       "      <th>acc</th>\n",
       "      <th>f1</th>\n",
       "      <th>mcc</th>\n",
       "      <th>clf</th>\n",
       "    </tr>\n",
       "  </thead>\n",
       "  <tbody>\n",
       "    <tr>\n",
       "      <th>0</th>\n",
       "      <td>0.807404</td>\n",
       "      <td>0.940215</td>\n",
       "      <td>0.932192</td>\n",
       "      <td>0.868633</td>\n",
       "      <td>0.827755</td>\n",
       "      <td>rf</td>\n",
       "    </tr>\n",
       "  </tbody>\n",
       "</table>\n",
       "</div>"
      ],
      "text/plain": [
       "        rec      prec       acc        f1       mcc clf\n",
       "0  0.807404  0.940215  0.932192  0.868633  0.827755  rf"
      ]
     },
     "execution_count": 4,
     "metadata": {},
     "output_type": "execute_result"
    }
   ],
   "source": [
    "perf_df = pd.DataFrame(perf, columns=['tn', 'fp', 'fn', 'tp'])\n",
    "tn,fp,fn,tp = perf_df.values[:,0], perf_df.values[:,1], perf_df.values[:,2], perf_df.values[:,3]    \n",
    "recall = tp / (tp + fn)\n",
    "precision = tp / (tp + fp)\n",
    "accuracy = (tp+tn) / (tp+fp+tn+fn)\n",
    "f1 = 2 * ((precision*recall) / (precision+recall))\n",
    "mcc = ((tp*tn)-(fp*fn))/np.sqrt((tp+fp)*(tp+fn)*(tn+fp)*(tn+fn))\n",
    "\n",
    "metr = pd.DataFrame({\n",
    "                     'rec': recall,\n",
    "                     'prec': precision,\n",
    "                     'acc': accuracy,\n",
    "                     'f1': f1,\n",
    "                     'mcc':mcc,\n",
    "                    })\n",
    "# average performance across fold\n",
    "metr = pd.DataFrame(metr.mean()).T\n",
    "metr['clf'] = 'rf'\n",
    "metr"
   ]
  },
  {
   "cell_type": "code",
   "execution_count": 5,
   "metadata": {},
   "outputs": [
    {
     "data": {
      "image/png": "[encoded data removed]",
      "text/plain": [
       "<Figure size 432x288 with 1 Axes>"
      ]
     },
     "metadata": {
      "needs_background": "light"
     },
     "output_type": "display_data"
    }
   ],
   "source": [
    "import matplotlib.pyplot as plt\n",
    "import math as m\n",
    "\n",
    "def radarplot(df, nm):\n",
    "    font = {'size': 9}\n",
    "    plt.rc('font', **font)\n",
    "    plt.rcParams[\"font.family\"] = \"arial\"\n",
    "    categories = list(df)[:-1]\n",
    "    N = len(categories)\n",
    "    values = df.loc[0].drop('clf').values.flatten().tolist()\n",
    "    values += values[:1]\n",
    "    angles = [n / float(N) * 2 * m.pi for n in range(N)]\n",
    "    angles += angles[:1]\n",
    "    ax = plt.subplot(111, polar=True)\n",
    "    ax.set_facecolor('#F0F0F0')\n",
    "\n",
    "    plt.xticks(angles[:-1], categories, color='black', size=9)\n",
    "\n",
    "    ax.set_rlabel_position(30)\n",
    "    # min and max [0.72, 1], middle circle is 0.86\n",
    "    #plt.yticks([0.72, 0.86, 1], [\"0.72\", \"0.86\", \"1.0\"], color=\"black\", size=9)\n",
    "    # plt.ylim(0.72,1)\n",
    "\n",
    "    for idx, nm in enumerate(nm):\n",
    "        values = df.loc[idx].drop('clf').values.flatten().tolist()\n",
    "        values += values[:1]\n",
    "        ax.plot(angles, values, linewidth=2, linestyle='solid', label=nm)\n",
    "        ax.fill(angles, values, 'b', alpha=0.1)\n",
    "\n",
    "  \n",
    "    # Add legend\n",
    "    plt.legend(loc='right', bbox_to_anchor=(0, 0.25), fontsize=9)\n",
    "\n",
    "\n",
    "    # Fill area\n",
    "    ax.fill(angles, values, 'b', alpha=0.1)\n",
    "    plt.savefig('./legend.pdf', dpi=600, bbox_inches='tight')\n",
    "    plt.show()\n",
    "    plt.close()\n",
    "    \n",
    "    \n",
    "radarplot(metr, nm=list(metr['clf']))\n"
   ]
  },
  {
   "cell_type": "markdown",
   "metadata": {},
   "source": [
    "Pretty good! Similar to the [previous](https://anfoss.github.io/posts/2020/08/covidpred2/) example the classes are unbalanced. So accuracy and precision, which are *unbalanced* metric are *really good* while *balanced metric* such as MCC, F1 are *okayish*. Interestingly, recall is lower than precision so this suggests that we are not doing a good job in *separating ground truth positive from the rest while we do a good job in predicting negative samples*. "
   ]
  },
  {
   "cell_type": "markdown",
   "metadata": {},
   "source": [
    "## Deep learning here we come!\n",
    "\n",
    "DISCLAIMER: This is not gonna be a full on deep learning explanation, but rather a small description of how neural nets are working and what's going on under the hood when we train a deep learning model. As before I will explain things as I go but will give a bit of background here.\n",
    "\n",
    "**Neural networks are function approximators**, meaning that given a set of points in a N-dimensional feature space and a set of labels, the neural net tries to separate the labels by learning a non-linear function.\n",
    "\n",
    "Networks architectures are build on three things:\n",
    "\n",
    "- Neurons which pass information by *receiving an input and produce a single output*\n",
    "- Weights which represent the *connection between neurons* and the 'significance' of a connection\n",
    "- Propagation which tells to the network *how* to move information"
   ]
  },
  {
   "cell_type": "markdown",
   "metadata": {},
   "source": [
    "Here is an example of a basic network with 3 input neurons (which means the input dataset needs to have 3 columns), 4 neurons in the hidden layer and 2 output neurons (which means this network can predict up to 3 classes).\n",
    "\n",
    "Each output neuron returns one value which can be read as *per class probability*.\n",
    "\n",
    "At the beginning of the training procedure, each neuron in one layer is connected to all neurons in the next layer but, during training, the connections *weights* gets modified.\n",
    "\n",
    "\n",
    "These weights change based on a function (*loss function*) calculated at the end of every cycle of training (or *epoch*). This function is usually *optimized*, meaning that there is a gradient which tells us how to modify the weights.\n",
    "\n",
    "*So in a nutshell the training procedure works that weights are initialized at random and then tuned on the dataset for a specific number of times (or epochs)*. To speed-up computation the data is usually splitted into *mini batches*.\n",
    "\n",
    "**But no fear**! Everything is automatic and all libraries are user-friendly.\n",
    "In Python there are several libraries for deep learning but for beginner I recommend [Keras](https://keras.io) and then move to [TensorFlow](https://www.tensorflow.org) when specific architecture are needed.\n",
    "\n"
   ]
  },
  {
   "cell_type": "code",
   "execution_count": 6,
   "metadata": {},
   "outputs": [
    {
     "name": "stdout",
     "output_type": "stream",
     "text": [
      "Model: \"sequential\"\n",
      "_________________________________________________________________\n",
      "Layer (type)                 Output Shape              Param #   \n",
      "=================================================================\n",
      "hidden1 (Dense)              (None, 100)               900       \n",
      "_________________________________________________________________\n",
      "hidden2 (Dense)              (None, 100)               10100     \n",
      "_________________________________________________________________\n",
      "output (Dense)               (None, 1)                 101       \n",
      "=================================================================\n",
      "Total params: 11,101\n",
      "Trainable params: 11,101\n",
      "Non-trainable params: 0\n",
      "_________________________________________________________________\n"
     ]
    }
   ],
   "source": [
    "from tensorflow.keras.models import Sequential\n",
    "from tensorflow.keras.layers import Dense\n",
    "from tensorflow.keras.layers import Input\n",
    "\n",
    "\n",
    "\n",
    "# building a neural network with keras works like lego.\n",
    "# first we initialize an empty model\n",
    "model = Sequential()\n",
    "# then we add one layer with 100 neurons\n",
    "model.add(Dense(units = 100, input_dim=X.shape[1], activation = 'tanh', name='hidden1'))\n",
    "# another hidden layer with 100 neurons\n",
    "model.add(Dense(units = 100, activation = 'relu', name='hidden2'))\n",
    "\n",
    "# we want to predict positive/negative. So we use 1 output neuron which outputs the probability of positive/negative\n",
    "model.add(Dense(units = 1, activation = 'sigmoid', name='output'))\n",
    "# we define the optimizer to use and the learning rate (lr)\n",
    "model.compile(optimizer = 'adam', loss = 'binary_crossentropy',metrics=['acc'], lr=0.001)\n",
    "model.summary()"
   ]
  },
  {
   "cell_type": "markdown",
   "metadata": {},
   "source": [
    "And our model is ready to roll! So to recapitulate,\n",
    "\n",
    "- We defined how many columns or input neurons we have in the data (**input_dim=X.shape[1]** in hidden1)\n",
    "- We added 2 hidden layers with 100 neurons \n",
    "- We have one output neuron which returns the probability of a peptide being cleaved or not cleaved by HIV protease\n",
    "\n",
    "On the contrary of traditional machine learning where we can use cross validation for evaluating performance, in deep learning is better to train on a large set of samples, but also we need a independent test (*validation set*) to keep track of performance at every epoch (cycle of training).\n",
    "\n",
    "For this we will split the data further in validation and training using [train_test_split](https://scikit-learn.org/stable/modules/generated/sklearn.model_selection.train_test_split.html)"
   ]
  },
  {
   "cell_type": "code",
   "execution_count": 7,
   "metadata": {},
   "outputs": [],
   "source": [
    "from sklearn.model_selection import train_test_split\n",
    "\n",
    "# replace -1 with 0 for prediction\n",
    "y[y == -1] = 0\n",
    "X_train, X_val, y_train, y_val = train_test_split(X, y,\n",
    "                                                    test_size=0.2,\n",
    "                                                    random_state=42,\n",
    "                                                    stratify=y)\n",
    "\n",
    "\n",
    "# we fit the model similar to sklearn but using 100 epochs (aka training cycle) \n",
    "# we split the dataset in 256 parts (mini-batches)\n",
    "history = model.fit(X_train, y_train, \n",
    "                    validation_data=(X_val, y_val), \n",
    "                    epochs=100, \n",
    "                    batch_size=256, \n",
    "                    # set verbose = 1 to have full output\n",
    "                    verbose=0\n",
    "                    )"
   ]
  },
  {
   "cell_type": "code",
   "execution_count": 30,
   "metadata": {},
   "outputs": [],
   "source": [
    "np.savetxt(\"X_train.csv\", X_train, delimiter=\",\")\n",
    "np.savetxt(\"X_val.csv\", X_val, delimiter=\",\")\n",
    "np.savetxt(\"y_train.csv\", y_train, delimiter=\",\")\n",
    "np.savetxt(\"y_val.csv\", y_val, delimiter=\",\")\n",
    "np.savetxt(\"X_test.csv\", X_test, delimiter=\",\")\n",
    "np.savetxt(\"y_test.csv\", y_test, delimiter=\",\")"
   ]
  },
  {
   "cell_type": "code",
   "execution_count": 9,
   "metadata": {},
   "outputs": [
    {
     "data": {
      "image/png": "[encoded data removed]",
      "text/plain": [
       "<Figure size 432x288 with 2 Axes>"
      ]
     },
     "metadata": {
      "needs_background": "light"
     },
     "output_type": "display_data"
    },
    {
     "name": "stdout",
     "output_type": "stream",
     "text": [
      "Accuracy: 0.800733\n",
      "Precision: 0.167683\n",
      "Recall: 0.126728\n",
      "F1 score: 0.144357\n",
      "ROC AUC: 0.566332\n"
     ]
    }
   ],
   "source": [
    "# we can add a function to plot accuracy and loss per epoch\n",
    "import matplotlib.pyplot as plt\n",
    "\n",
    "# we also can calculate some performance metrics to compare with rf\n",
    "from sklearn.metrics import accuracy_score\n",
    "from sklearn.metrics import precision_score\n",
    "from sklearn.metrics import recall_score\n",
    "from sklearn.metrics import f1_score\n",
    "from sklearn.metrics import roc_auc_score\n",
    "\n",
    "\n",
    "def qc_plots(model, history, X_train, y_train, X_test, y_test, pre='100units2hidden'):\n",
    "    plt.subplot(211)\n",
    "    plt.ylabel('Loss')\n",
    "    plt.plot(history.history['loss'], label='train')\n",
    "    plt.plot(history.history['val_loss'], label='val')\n",
    "    plt.legend()\n",
    "    plt.subplot(212)\n",
    "    plt.ylabel('Accuracy')\n",
    "    plt.plot(history.history['acc'], label='train')\n",
    "    plt.plot(history.history['val_acc'], label='val')\n",
    "    plt.xlabel('Training epoch')\n",
    "    plt.legend()\n",
    "    plt.savefig('{}_training.pdf'.format(pre), bbox_inches='tight', dpi=1600)\n",
    "    plt.show()\n",
    "\n",
    "    _, train_acc = model.evaluate(X_train, y_train, verbose=0)\n",
    "    _, test_acc = model.evaluate(X_test, y_test, verbose=0)\n",
    "\n",
    "    yhat_probs = model.predict(X_test, verbose=0)\n",
    "    yhat_classes = model.predict_classes(X_test, verbose=0)\n",
    "    yhat_probs = yhat_probs[:, 0]\n",
    "    yhat_classes = yhat_classes[:, 0]\n",
    "\n",
    "    accuracy = accuracy_score(y_test, yhat_classes)\n",
    "    print('Accuracy: %f' % accuracy)\n",
    "    precision = precision_score(y_test, yhat_classes)\n",
    "    print('Precision: %f' % precision)\n",
    "    recall = recall_score(y_test, yhat_classes)\n",
    "    print('Recall: %f' % recall)\n",
    "    f1 = f1_score(y_test, yhat_classes)\n",
    "    print('F1 score: %f' % f1)\n",
    "    auc = roc_auc_score(y_test, yhat_probs)\n",
    "    print('ROC AUC: %f' % auc)\n",
    "    \n",
    "\n",
    "def metrics(model, X_test, y_test):\n",
    "    _, test_acc = model.evaluate(X_test, y_test, verbose=0)\n",
    "    yhat_probs = model.predict(X_test, verbose=0)\n",
    "    yhat_classes = model.predict_classes(X_test, verbose=0)\n",
    "    yhat_probs = yhat_probs[:, 0]\n",
    "    yhat_classes = yhat_classes[:, 0]\n",
    "\n",
    "    accuracy = accuracy_score(y_test, yhat_classes)\n",
    "    precision = precision_score(y_test, yhat_classes)\n",
    "    recall = recall_score(y_test, yhat_classes)\n",
    "    f1 = f1_score(y_test, yhat_classes)\n",
    "    auc = roc_auc_score(y_test, yhat_probs)\n",
    "    return ['base dnn', accuracy, precision, recall, f1, auc] \n",
    "\n",
    "# regenerate test data\n",
    "X_test, y_test = preprocess_seq(test_data, aa)\n",
    "y_test[y_test == -1] = 0\n",
    "qc_plots(model, history, X_train, y_train, X_test, y_test)"
   ]
  },
  {
   "cell_type": "markdown",
   "metadata": {},
   "source": [
    "**Ouch!** Our wonderful model is performing well on the training data but bad on the test data! This is another example of [overfitting](https://en.wikipedia.org/wiki/Overfitting) the training data. It can be seen from the loss function as it *increase* in the validation set at every epoch (training cycle) while it should be decreasing and overlap with the validation set.\n",
    "\n",
    "\n",
    "*Basically our network is remembering examples from the training data rather than really learning the general relationship between features and labels (cleaved by HIV protease or not cleaved)*.\n",
    "\n",
    "\n",
    "In the next post we will try to fix this and actually achieve a almost perfect classification by making the model forget during training! Yep you heard correctly, our network will perform better by forgetting things it learns."
   ]
  }
 ],
 "metadata": {
  "kernelspec": {
   "display_name": "Python 3",
   "language": "python",
   "name": "python3"
  },
  "language_info": {
   "codemirror_mode": {
    "name": "ipython",
    "version": 3
   },
   "file_extension": ".py",
   "mimetype": "text/x-python",
   "name": "python",
   "nbconvert_exporter": "python",
   "pygments_lexer": "ipython3",
   "version": "3.7.4"
  }
 },
 "nbformat": 4,
 "nbformat_minor": 4
}
